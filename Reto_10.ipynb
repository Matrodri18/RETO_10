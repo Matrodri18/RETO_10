{
  "nbformat": 4,
  "nbformat_minor": 0,
  "metadata": {
    "colab": {
      "provenance": []
    },
    "kernelspec": {
      "name": "python3",
      "display_name": "Python 3"
    },
    "language_info": {
      "name": "python"
    }
  },
  "cells": [
    {
      "cell_type": "markdown",
      "source": [
        "### 1. Desarrolle un programa que permita realizar la suma/resta de matrices . El programa debe validar las condiciones necesarias para ejecutar la operación."
      ],
      "metadata": {
        "id": "XSztlRUlVpGA"
      }
    },
    {
      "cell_type": "code",
      "source": [
        "def validar_matriz(matriz):#Identificador de caracteres Vacios\n",
        "    for fila in matriz:\n",
        "        for elemento in fila:\n",
        "            if elemento is None or elemento == '':\n",
        "                return False\n",
        "    return True\n",
        "\n",
        "# Ejemplo de matrices\n",
        "fila1 = [1, 3, 5]\n",
        "fila2 = [7, 9, 11]\n",
        "fila3 = [13, 15, 17]\n",
        "A = [fila1, fila2, fila3] # Matriz números impares\n",
        "\n",
        "fila4 = [2, 4, 6]\n",
        "fila5 = [8, 10, 12]\n",
        "fila6 = [14, 16, 18]\n",
        "B = [fila4, fila5, fila6] # Matriz números pares\n",
        "\n",
        "# Valida las matrices antes de operar\n",
        "if validar_matriz(A) and validar_matriz(B):\n",
        "    # Lista para guardar los resultados de las sumas\n",
        "    suma = []\n",
        "    for i in range(len(A)):  # Recorre cada fila\n",
        "        fila = []\n",
        "        for j in range(len(A[i])):  # Recorre cada elemento de la fila\n",
        "            fila.append(A[i][j] + B[i][j])#Opera los elementos de la matriz\n",
        "        suma.append(fila)\n",
        "    print(\"Resultado de la suma de las matrices:\", suma)\n",
        "\n",
        "    # Lista para guardar los resultados de las sumas\n",
        "    resta = []\n",
        "    for i in range(len(A)):  # Recorre cada fila\n",
        "        fila = []\n",
        "        for j in range(len(A[i])):  # Recorre cada elemento de la fila\n",
        "            fila.append(B[i][j] - A[i][j])#Opera los elementos de la matriz\n",
        "        resta.append(fila)\n",
        "    print(\"Resultado de la resta de las matrices:\", resta)\n",
        "else:\n",
        "    print(\"Las matrices contienen elementos vacíos y no se pueden procesar.\")\n"
      ],
      "metadata": {
        "colab": {
          "base_uri": "https://localhost:8080/"
        },
        "id": "RnorhaZtQ7O2",
        "outputId": "4eaaf028-77e7-42fe-ced0-9cae20dbfc8e"
      },
      "execution_count": 27,
      "outputs": [
        {
          "output_type": "stream",
          "name": "stdout",
          "text": [
            "Resultado de la suma de las matrices: [[3, 7, 11], [15, 19, 23], [27, 31, 35]]\n",
            "Resultado de la resta de las matrices: [[1, 1, 1], [1, 1, 1], [1, 1, 1]]\n"
          ]
        }
      ]
    },
    {
      "cell_type": "markdown",
      "source": [
        "### 2. Desarrolle un programa que permita realizar el producto de matrices . El programa debe validar las condiciones necesarias para ejecutar la operación.\n"
      ],
      "metadata": {
        "id": "bDnYHSBnVpI3"
      }
    },
    {
      "cell_type": "code",
      "source": [
        "def validar_matriz(matriz):#Identificador de caracteres Vacios\n",
        "    for fila in matriz:\n",
        "        for elemento in fila:\n",
        "            if elemento is None or elemento == '':\n",
        "                return False\n",
        "    return True\n",
        "\n",
        "# Ejemplo de matrices\n",
        "fila1 = [1, 3, 5]\n",
        "fila2 = [7, 9, 11]\n",
        "fila3 = [13, 15, 17]\n",
        "A = [fila1, fila2, fila3] # Matriz números impares\n",
        "\n",
        "fila4 = [2, 4, 6]\n",
        "fila5 = [8, 10, 12]\n",
        "fila6 = [14, 16, 18]\n",
        "B = [fila4, fila5, fila6] # Matriz números pares\n",
        "\n",
        "# Valida las matrices antes de operar\n",
        "if validar_matriz(A) and validar_matriz(B):\n",
        "  resultado = [] #Nueva lista para guardar los resultados de los productos\n",
        "\n",
        "# Iterar sobre las filas de A\n",
        "for i in range(len(A)):\n",
        "    fila = []\n",
        "    # Iterar sobre las columnas de B\n",
        "    for j in range(len(B[0])):\n",
        "        suma = 0\n",
        "        # Iterar sobre las filas de B\n",
        "        for k in range(len(B)):\n",
        "            suma += A[i][k] * B[k][j]\n",
        "        fila.append(suma)\n",
        "    resultado.append(fila)\n",
        "\n",
        "print(\"Resultado de la multiplicación de las matrices:\")\n",
        "for fila in resultado:\n",
        "    print(fila)\n"
      ],
      "metadata": {
        "colab": {
          "base_uri": "https://localhost:8080/"
        },
        "id": "hkUtVGUHSkJH",
        "outputId": "97112a0d-6ce4-4b08-ce36-e6f7a493a449"
      },
      "execution_count": 28,
      "outputs": [
        {
          "output_type": "stream",
          "name": "stdout",
          "text": [
            "Resultado de la multiplicación de las matrices:\n",
            "[96, 114, 132]\n",
            "[240, 294, 348]\n",
            "[384, 474, 564]\n"
          ]
        }
      ]
    },
    {
      "cell_type": "markdown",
      "source": [
        "### 3. Desarrolle un programa que permita obtener la matriz transpuesta de una matriz ingresada. El programa debe validar las condiciones necesarias para ejecutar la operación."
      ],
      "metadata": {
        "id": "ZhqDXT_tVpLe"
      }
    },
    {
      "cell_type": "code",
      "source": [
        "def validar_matriz(matriz): #Identificador de caracteres Vacios\n",
        "    for fila in matriz:\n",
        "        for elemento in fila:\n",
        "            if elemento is None or elemento == '':\n",
        "                return False\n",
        "    return True\n",
        "def transponer_matriz(matriz):\n",
        "    filas = len(matriz)\n",
        "    columnas = len(matriz[0])\n",
        "    transpuesta = []#Matriz Transpuesta\n",
        "\n",
        "    for j in range(columnas):#Intercambia el orden, ahora las columnas seran filas y viceversa\n",
        "        fila_transpuesta = []\n",
        "        for i in range(filas):\n",
        "            fila_transpuesta.append(matriz[i][j])\n",
        "        transpuesta.append(fila_transpuesta)\n",
        "\n",
        "    return transpuesta\n",
        "def ingresar_matriz():\n",
        "    filas = int(input(\"Ingrese el número de filas: \"))#Ingresa n filas\n",
        "    columnas = int(input(\"Ingrese el número de columnas:\"))#Ingresa n Columnas\n",
        "    matriz = []#Matriz Inicial\n",
        "\n",
        "    for i in range(filas):\n",
        "        fila = []#Lista de la matrz inicial\n",
        "        print('Tenga en cuenta de que si pone elementos vacios el codigo no funcionara')#Aviso\n",
        "        for j in range(columnas):\n",
        "            elemento = int(input(f\"Ingrese el elemento ({i+1},{j+1}): \"))#Ingresa los elementos correspondientes en por cada fila\n",
        "            fila.append(elemento)\n",
        "        matriz.append(fila)\n",
        "\n",
        "    return matriz\n",
        "\n",
        "print(\"Ingrese los elementos de la matriz:\")#Presentacion\n",
        "matriz = ingresar_matriz()\n",
        "if validar_matriz(matriz):\n",
        "    transpuesta = transponer_matriz(matriz)\n",
        "    print(\"\\nMatriz original:\")#Presenta la matriz original\n",
        "    for fila in matriz:\n",
        "        print(fila)\n",
        "    print(\"\\nMatriz transpuesta:\")#Presenta la matriz Transpuesta\n",
        "    for fila in transpuesta:\n",
        "        print(fila)\n",
        "else:\n",
        "    print(\"Error\")\n"
      ],
      "metadata": {
        "colab": {
          "base_uri": "https://localhost:8080/"
        },
        "id": "AV7oEClbCOdi",
        "outputId": "00efb584-0be9-437f-bdfd-b63298a91300"
      },
      "execution_count": 43,
      "outputs": [
        {
          "output_type": "stream",
          "name": "stdout",
          "text": [
            "Ingrese los elementos de la matriz:\n",
            "Ingrese el número de filas de la matriz: 3\n",
            "Ingrese el número de columnas de la matriz: 2\n",
            "Tenga en cuenta de que si pone elementos vacios el codigo no funcionara\n",
            "Ingrese el elemento (1,1): 1\n",
            "Ingrese el elemento (1,2): 2\n",
            "Tenga en cuenta de que si pone elementos vacios el codigo no funcionara\n",
            "Ingrese el elemento (2,1): 3\n",
            "Ingrese el elemento (2,2): 4\n",
            "Tenga en cuenta de que si pone elementos vacios el codigo no funcionara\n",
            "Ingrese el elemento (3,1): 5\n",
            "Ingrese el elemento (3,2): 6\n",
            "\n",
            "Matriz original:\n",
            "[1, 2]\n",
            "[3, 4]\n",
            "[5, 6]\n",
            "\n",
            "Matriz transpuesta:\n",
            "[1, 3, 5]\n",
            "[2, 4, 6]\n"
          ]
        }
      ]
    },
    {
      "cell_type": "markdown",
      "source": [
        "### 4. Desarrollar un programa que sume los elementos de una columna dada de una matriz."
      ],
      "metadata": {
        "id": "v2gyx_ZVVpOa"
      }
    },
    {
      "cell_type": "code",
      "source": [
        "\n",
        "def ingresar_matriz():\n",
        "    filas = int(input(\"Ingrese el número de filas de la matriz: \"))#Ingrese filas\n",
        "    columnas = int(input(\"Ingrese el número de columnas de la matriz: \"))#Ingrese columnas\n",
        "    matriz = []\n",
        "\n",
        "    for i in range(filas):\n",
        "        fila = []#Lista donde iran los datos de cada fila cuando se ingresan\n",
        "        for j in range(columnas):#Lista donde iran los datos de cada columna cuando se ingresan\n",
        "            elemento = int(input(f\"Ingrese el elemento ({i+1},{j+1}): \"))\n",
        "            fila.append(elemento)\n",
        "        matriz.append(fila)\n",
        "\n",
        "    return matriz\n",
        "\n",
        "def sumar_columna(matriz, columna):\n",
        "    suma = 0\n",
        "    for fila in matriz:\n",
        "        suma += fila[columna]#Operador de suma con la fila seleccionada\n",
        "    return suma\n",
        "\n",
        "\n",
        "print(\"Ingrese los elementos de la matriz:\")#Print de presentación\n",
        "matriz = ingresar_matriz()\n",
        "\n",
        "columna = int(input(\"Ingrese el número de la columna que desea sumar (comenzando desde 0): \"))# Pedir al usuario que ingrese el número de columna a sumar\n",
        "\n",
        "# Validar que la columna está dentro del rango de la matriz\n",
        "if columna >= 0 and columna < len(matriz[0]):\n",
        "    resultado = sumar_columna(matriz, columna)\n",
        "    print( \"La suma de los elementos de la columna\", str(columna),  \"es: \" , str(resultado))\n",
        "else:\n",
        "    print(\"El número de columna ingresado está fuera del rango.\")\n"
      ],
      "metadata": {
        "colab": {
          "base_uri": "https://localhost:8080/"
        },
        "id": "mIIoWSoLCOq5",
        "outputId": "ab537a6d-5cc9-4e0c-d2a4-a014c79fc15e"
      },
      "execution_count": 4,
      "outputs": [
        {
          "output_type": "stream",
          "name": "stdout",
          "text": [
            "Ingrese los elementos de la matriz:\n",
            "Ingrese el número de filas de la matriz: 2\n",
            "Ingrese el número de columnas de la matriz: 2\n",
            "Ingrese el elemento (1,1): 1\n",
            "Ingrese el elemento (1,2): 2\n",
            "Ingrese el elemento (2,1): 3\n",
            "Ingrese el elemento (2,2): 4\n",
            "Ingrese el número de la columna que desea sumar (comenzando desde 0): 1\n",
            "La suma de los elementos de la columna 1 es:  6\n"
          ]
        }
      ]
    },
    {
      "cell_type": "markdown",
      "source": [
        "### 5. Desarrollar un programa que sume los elementos de una fila dada de una matriz."
      ],
      "metadata": {
        "id": "AmZ9-SzdWHNv"
      }
    },
    {
      "cell_type": "code",
      "source": [
        "def ingresar_matriz():\n",
        "    filas = int(input(\"Ingrese el número de filas de la matriz: \"))\n",
        "    columnas = int(input(\"Ingrese el número de columnas de la matriz: \"))\n",
        "    matriz = []#Matriz Vacia\n",
        "\n",
        "    for i in range(filas):\n",
        "        fila = []#Lista donde iran los datos de cada fila cuando se ingresan\n",
        "        for j in range(columnas):#Lista donde iran los datos de cada columna cuando se ingresan\n",
        "            elemento = int(input(f\"Ingrese el elemento ({i+1},{j+1}): \"))\n",
        "            fila.append(elemento)\n",
        "        matriz.append(fila) # reune tanto las filas como las columnas con los datos ingresados\n",
        "\n",
        "    return matriz\n",
        "\n",
        "def sumar_fila(matriz, fila):\n",
        "    suma = 0\n",
        "    for elemento in matriz[fila]:\n",
        "        suma += elemento#Operador de suma con la fila seleccionada\n",
        "    return suma\n",
        "\n",
        "print(\"Ingrese los elementos de la matriz:\") #Print de presentación\n",
        "matriz = ingresar_matriz()\n",
        "\n",
        "fila = int(input(\"Ingrese el número de la fila que desea sumar (comenzando desde 0): \"))# Pide al usuario que ingrese el número de la fila a sumar\n",
        "\n",
        "# Validar que la fila está dentro del rango de la matriz\n",
        "if fila >= 0 and fila < len(matriz):\n",
        "    resultado = sumar_fila(matriz, fila)\n",
        "    print(\"La suma de los elementos de la fila \", str(fila), \"es: \", str(resultado)) #Resultado\n",
        "else:\n",
        "    print(\"El número de fila ingresado está fuera del rango.\")#Esto en caso de que ingrese caracteres que no sean numeros\n"
      ],
      "metadata": {
        "colab": {
          "base_uri": "https://localhost:8080/"
        },
        "id": "gX_hWSYHCPRJ",
        "outputId": "6f25a2d2-3e7f-4794-84d9-d3302953628c"
      },
      "execution_count": 1,
      "outputs": [
        {
          "output_type": "stream",
          "name": "stdout",
          "text": [
            "Ingrese los elementos de la matriz:\n",
            "Ingrese el número de filas de la matriz: 2\n",
            "Ingrese el número de columnas de la matriz: 3\n",
            "Ingrese el elemento (1,1): 1\n",
            "Ingrese el elemento (1,2): 1\n",
            "Ingrese el elemento (1,3): 1\n",
            "Ingrese el elemento (2,1): 1\n",
            "Ingrese el elemento (2,2): 1\n",
            "Ingrese el elemento (2,3): 1\n",
            "Ingrese el número de la fila que desea sumar (comenzando desde 0): 1\n",
            "La suma de los elementos de la fila  1 es:  3\n"
          ]
        }
      ]
    }
  ]
}